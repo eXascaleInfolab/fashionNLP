{
 "cells": [
  {
   "cell_type": "code",
   "execution_count": 5,
   "metadata": {
    "collapsed": false
   },
   "outputs": [
    {
     "ename": "ImportError",
     "evalue": "No module named Levenshtein",
     "output_type": "error",
     "traceback": [
      "\u001b[0;31m---------------------------------------------------------------------------\u001b[0m",
      "\u001b[0;31mImportError\u001b[0m                               Traceback (most recent call last)",
      "\u001b[0;32m<ipython-input-5-aa6f90413be6>\u001b[0m in \u001b[0;36m<module>\u001b[0;34m()\u001b[0m\n\u001b[1;32m      1\u001b[0m \u001b[0;32mimport\u001b[0m \u001b[0mjson\u001b[0m\u001b[0;34m\u001b[0m\u001b[0m\n\u001b[1;32m      2\u001b[0m \u001b[0;32mimport\u001b[0m \u001b[0mcsv\u001b[0m\u001b[0;34m\u001b[0m\u001b[0m\n\u001b[0;32m----> 3\u001b[0;31m \u001b[0;32mimport\u001b[0m \u001b[0mLevenshtein\u001b[0m\u001b[0;34m\u001b[0m\u001b[0m\n\u001b[0m",
      "\u001b[0;31mImportError\u001b[0m: No module named Levenshtein"
     ]
    }
   ],
   "source": [
    "import json\n",
    "import csv\n",
    "import Levenshtein"
   ]
  },
  {
   "cell_type": "code",
   "execution_count": 7,
   "metadata": {
    "collapsed": true
   },
   "outputs": [],
   "source": [
    "def findchild(n):\n",
    "    for x in n['children']:\n",
    "        listofdescriptiveitems.append(x['name'])\n",
    "        if findchild(x):\n",
    "            findchild(x)\n",
    "\n",
    "def findchildren(x,text):\n",
    "    for n in x['children']:\n",
    "        #print (n['name'].lower(),text)\n",
    "        if (n['name']).lower()==text:\n",
    "            listofdescriptiveitems.append(n['name'])\n",
    "            findchild(n)\n",
    "            return n\n",
    "        else:\n",
    "            findchildren(n,text)\n",
    "            #print (n,text)\n",
    "\n",
    "def similar(a, b):\n",
    "    return SequenceMatcher(None, a, b).ratio()\n",
    "\n",
    "f=open('data.json','r')\n",
    "data=json.load(f)"
   ]
  },
  {
   "cell_type": "code",
   "execution_count": 127,
   "metadata": {
    "collapsed": true,
    "scrolled": true
   },
   "outputs": [],
   "source": [
    "text='jersey'\n",
    "#Try eyewear, sandals, shoes, boots, jackets etc. \n",
    "listofdescriptiveitems=[]\n",
    "children=findchildren(data,text)\n",
    "f.close()\n",
    "#print (listofdescriptiveitems)\n",
    "itemlist = csv.reader(open('influencersoutput.csv', \"r\"))\n",
    "for row in itemlist:\n",
    "    if (len(row))>=3:\n",
    "        #print (row[0].lower().strip())\n",
    "        for item in listofdescriptiveitems:\n",
    "            if (str(item).lower() in (row[0].lower().strip())) or Levenshtein.ratio(str(item).lower(),(row[0].lower().strip()))>0.8:\n",
    "                print (row[0].lower().strip())\n",
    "            #if str(item).lower() in (row[0].lower().strip()):\n",
    "                #print (row[0].lower().strip())"
   ]
  },
  {
   "cell_type": "code",
   "execution_count": null,
   "metadata": {
    "collapsed": true
   },
   "outputs": [],
   "source": []
  }
 ],
 "metadata": {
  "kernelspec": {
   "display_name": "Python 2",
   "language": "python",
   "name": "python2"
  },
  "language_info": {
   "codemirror_mode": {
    "name": "ipython",
    "version": 2
   },
   "file_extension": ".py",
   "mimetype": "text/x-python",
   "name": "python",
   "nbconvert_exporter": "python",
   "pygments_lexer": "ipython2",
   "version": "2.7.11"
  }
 },
 "nbformat": 4,
 "nbformat_minor": 2
}
